{
 "cells": [
  {
   "cell_type": "code",
   "execution_count": null,
   "metadata": {},
   "outputs": [],
   "source": [
    "!pip install deepface\n",
    "!pip install retina-face"
   ]
  },
  {
   "cell_type": "code",
   "execution_count": null,
   "metadata": {},
   "outputs": [],
   "source": [
    "from deepface import DeepFace\n",
    "import pandas as pd\n",
    "\n",
    "models = [\"VGG-Face\", \"Facenet\", \"OpenFace\", \"DeepFace\", \"DeepID\", \"ArcFace\", \"Dlib\"]\n",
    "metrics = [\"cosine\", \"euclidean\", \"euclidean_l2\"]\n",
    "backends = ['opencv', 'ssd', 'dlib', 'mtcnn', 'retinaface']\n",
    "\n",
    "img_path = \"./img/unknown/all.jpg\"\n",
    "df = DeepFace.find(img_path = img_path, db_path = \"./datasets\", model_name = models[1], distance_metric = metrics[2], detector_backend = backends[4])"
   ]
  },
  {
   "cell_type": "code",
   "execution_count": null,
   "metadata": {},
   "outputs": [],
   "source": [
    "import cv2\n",
    "from matplotlib import pyplot as plt\n",
    "from retinaface import RetinaFace\n",
    "\n",
    "resp = RetinaFace.detect_faces(img_path)\n",
    "\n",
    "img_bgr = cv2.imread(img_path, cv2.IMREAD_COLOR)\n",
    "img_rgb = cv2.cvtColor(img_bgr, cv2.COLOR_BGR2RGB)\n",
    "for people in resp:\n",
    "  cv2.rectangle(img_rgb, (resp[people]['facial_area'][0],resp[people]['facial_area'][1]), (resp[people]['facial_area'][2], resp[people]['facial_area'][3]), (0,0,255), 3)\n",
    "\n",
    "unknow = 0\n",
    "for idx, data in enumerate(df):\n",
    "   \n",
    "    last = len(data)-1\n",
    "    if last < 0: \n",
    "        unknow += 1\n",
    "        continue\n",
    "\n",
    "    \n",
    "    ori_point = (data.loc[last, 'source_x'], data.loc[last, 'source_y'])\n",
    "    name = str(data.loc[last, 'identity']).split('\\\\')[1].split('/')[0]\n",
    "    print(name)\n",
    "    cv2.rectangle(img_rgb, ori_point, (ori_point[0]+data.loc[last,'source_w'], ori_point[1]+data.loc[last, 'source_h']), (0,255,0), 3)\n",
    "    cv2.putText(img_rgb, name, ori_point, fontFace = cv2.FONT_HERSHEY_SIMPLEX, fontScale = img_rgb.shape[0]*img_rgb.shape[1]/700000, color = (255, 0, 0), thickness = 2, lineType=cv2.LINE_AA) \n",
    "\n",
    "print(f\"{unknow} unkwon person\")\n",
    "plt.imshow(img_rgb)\n",
    "plt.show()"
   ]
  }
 ],
 "metadata": {
  "kernelspec": {
   "display_name": "ml",
   "language": "python",
   "name": "python3"
  },
  "language_info": {
   "codemirror_mode": {
    "name": "ipython",
    "version": 3
   },
   "file_extension": ".py",
   "mimetype": "text/x-python",
   "name": "python",
   "nbconvert_exporter": "python",
   "pygments_lexer": "ipython3",
   "version": "3.9.16"
  },
  "orig_nbformat": 4
 },
 "nbformat": 4,
 "nbformat_minor": 2
}
